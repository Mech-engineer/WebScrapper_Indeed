{
 "cells": [
  {
   "cell_type": "markdown",
   "metadata": {},
   "source": [
    "# Web Scrapping notebook for Indeed website\n",
    "### We will be web scrapping indeed to extract skills from job description used in the field of data science"
   ]
  },
  {
   "cell_type": "markdown",
   "metadata": {},
   "source": [
    "Web Scrapping library being used Selenium, beautifulsoup"
   ]
  },
  {
   "cell_type": "code",
   "execution_count": 11,
   "metadata": {},
   "outputs": [],
   "source": [
    "# first we will install selenium if we don't have it (uncomment code below to install selenium library)\n",
    "#!pip install selenium\n",
    "\n",
    "#documentation can be found: https://selenium-python.readthedocs.io/installation.html"
   ]
  },
  {
   "cell_type": "code",
   "execution_count": 69,
   "metadata": {},
   "outputs": [],
   "source": [
    "#Importing Selenium\n",
    "\n",
    "from selenium.webdriver.common.by import By\n",
    "from selenium import webdriver\n",
    "from selenium.webdriver.common.keys import Keys\n",
    "from selenium.webdriver.support.ui import WebDriverWait\n",
    "from selenium.webdriver.support import expected_conditions as EC\n",
    "from selenium.webdriver.common.by import By\n",
    "#specify driver path\n",
    "DRIVER_PATH = r'./chromedriver'\n",
    "driver = webdriver.Chrome(executable_path = DRIVER_PATH)\n"
   ]
  },
  {
   "cell_type": "code",
   "execution_count": 70,
   "metadata": {},
   "outputs": [],
   "source": [
    "# Opening indeed web page for Canada\n",
    "\n",
    "driver.get('https://ca.indeed.com/?from=gnav-viewjob')"
   ]
  },
  {
   "cell_type": "code",
   "execution_count": 53,
   "metadata": {},
   "outputs": [
    {
     "name": "stdout",
     "output_type": "stream",
     "text": [
      "<selenium.webdriver.chrome.webdriver.WebDriver (session=\"7b85a3485bdd54d760f283e848b5c75f\")>\n"
     ]
    }
   ],
   "source": [
    "print(driver)"
   ]
  },
  {
   "cell_type": "code",
   "execution_count": 54,
   "metadata": {},
   "outputs": [],
   "source": [
    "# going into advance search and closing popup that comes up\n",
    "\n",
    "initial_search_button = driver.find_element_by_xpath('//*[@id=\"whatWhereFormId\"]/div[3]/button')\n",
    "initial_search_button.click()\n",
    "try:\n",
    "    close_popup = driver.find_element_by_id(\"popover-x\")\n",
    "    close_popup.click()\n",
    "except:\n",
    "    pass"
   ]
  },
  {
   "cell_type": "code",
   "execution_count": 37,
   "metadata": {},
   "outputs": [],
   "source": [
    "# Create list to store different informations from the web pages\n",
    "titles=[]\n",
    "companies=[]\n",
    "locations=[]\n",
    "links =[]\n",
    "reviews=[]\n",
    "salaries = []\n",
    "descriptions=[]"
   ]
  },
  {
   "cell_type": "code",
   "execution_count": 1,
   "metadata": {},
   "outputs": [
    {
     "ename": "SyntaxError",
     "evalue": "invalid syntax (<ipython-input-1-2aaad0e6ca4c>, line 18)",
     "output_type": "error",
     "traceback": [
      "\u001b[1;36m  File \u001b[1;32m\"<ipython-input-1-2aaad0e6ca4c>\"\u001b[1;36m, line \u001b[1;32m18\u001b[0m\n\u001b[1;33m    'Risk management',\u001b[0m\n\u001b[1;37m    ^\u001b[0m\n\u001b[1;31mSyntaxError\u001b[0m\u001b[1;31m:\u001b[0m invalid syntax\n"
     ]
    }
   ],
   "source": [
    "# Enter different roles that you want to search jobs for\n",
    "\n",
    "roles = ['Data Engineer',\n",
    "         'Data Analyst', \n",
    "         'Data Science', \n",
    "         'Machine Learning',\n",
    "         'Natural Language Processing', \n",
    "         'Computer Vision', \n",
    "             'Data Analytics', \n",
    "         'Statistician',\n",
    "             'Product Manager', \n",
    "         'Research Scientist', \n",
    "             'Business Analyst', \n",
    "         'Data Engineer', \n",
    "         'Database Engineer', \n",
    "         'Big Data Engineer', \n",
    "         'Big Data Scientist'.\n",
    "         'Risk management',\n",
    "          'Data Management']\n",
    "\n",
    "\n"
   ]
  },
  {
   "cell_type": "code",
   "execution_count": 59,
   "metadata": {},
   "outputs": [
    {
     "data": {
      "text/plain": [
       "15"
      ]
     },
     "execution_count": 59,
     "metadata": {},
     "output_type": "execute_result"
    }
   ],
   "source": [
    "len(roles)"
   ]
  },
  {
   "cell_type": "code",
   "execution_count": 64,
   "metadata": {},
   "outputs": [
    {
     "name": "stdout",
     "output_type": "stream",
     "text": [
      "Big Data Scientist\n",
      "in advance_job_search: \n",
      "Advance search\n",
      "Big Data Scientist  Page: 1\n",
      "Clicking next page\n",
      "Big Data Scientist  Page: 2\n",
      "Clicking next page\n",
      "Big Data Scientist  Page: 3\n",
      "Clicking next page\n",
      "Big Data Scientist  Page: 4\n",
      "Clicking next page\n",
      "Big Data Scientist  Page: 5\n",
      "Clicking next page\n"
     ]
    }
   ],
   "source": [
    "# Web scrapping\n",
    "\n",
    "driver.implicitly_wait(3) \n",
    "for role in roles:\n",
    "    \n",
    "    \n",
    "        \n",
    "    \n",
    "    \n",
    "    print(role)\n",
    "    driver.implicitly_wait(3)\n",
    "    #try:\n",
    "    advanced_search = driver.find_element_by_xpath(\"//a[contains(text(),'Advanced Job Search')]\")\n",
    "    print('in advance_job_search: ')\n",
    "    advanced_search.click()\n",
    "    #except:\n",
    "        #pass\n",
    "    \n",
    "    driver.implicitly_wait(3)\n",
    "\n",
    "    try:\n",
    "        print('Advance search')\n",
    "        #search jobs in data science \n",
    "        search_job = driver.find_element_by_xpath('//input[@id=\"as_and\"]')\n",
    "        search_job.clear()\n",
    "        search_job.send_keys([role])\n",
    "        #set location to cuty/country we want to search into.\n",
    "        location_search_job = driver.find_element_by_xpath('//input[@id=\"where\"]')\n",
    "        location_search_job.clear()\n",
    "        location_search_job.send_keys(['Canada'])\n",
    "        #set display limit of 50 results per page\n",
    "        display_limit = driver.find_element_by_xpath('//select[@id=\"limit\"]//option[@value=\"50\"]')\n",
    "        display_limit.click()\n",
    "        #sort by date\n",
    "        sort_option = driver.find_element_by_xpath('//select[@id=\"sort\"]//option[@value=\"date\"]')\n",
    "        sort_option.click()\n",
    "        search_button = driver.find_element_by_xpath('//*[@id=\"fj\"]')\n",
    "        search_button.click()\n",
    "        #let the driver wait 3 seconds to locate the element before exiting out\n",
    "        driver.implicitly_wait(3) \n",
    "    except:\n",
    "        print('regular search')\n",
    "        #search jobs in data science \n",
    "        search_job = driver.find_element_by_xpath('//input[@id=\"what\"]')\n",
    "        search_job.clear()\n",
    "        search_job.send_keys([role])\n",
    "        #set location to cuty/country we want to search into.\n",
    "        location_search_job = driver.find_element_by_xpath('//input[@id=\"where\"]')\n",
    "        location_search_job.clear()\n",
    "        location_search_job.send_keys(['Canada'])\n",
    "        search_button = driver.find_element_by_xpath('//*[@id=\"fj\"]')\n",
    "        search_button.click()\n",
    "        #let the driver wait 3 seconds to locate the element before exiting out\n",
    "        driver.implicitly_wait(3)\n",
    "\n",
    "    try:\n",
    "        close_popup = driver.find_element_by_id(\"popover-x\")\n",
    "        close_popup.click()\n",
    "    except:\n",
    "        pass\n",
    "    # This will look for jobs for upto 5 pages\n",
    "\n",
    "    for i in range(0,5):\n",
    "        driver.implicitly_wait(3) \n",
    "        print(role,\" Page: {}\".format(str(i+1)))\n",
    "        \n",
    "        job_card = driver.find_elements_by_xpath('//div[contains(@class,\"clickcard\")]')\n",
    "\n",
    "        for job in job_card:\n",
    "\n",
    "        #.  not all companies have review\n",
    "            try:\n",
    "                review = job.find_element_by_xpath('.//span[@class=\"ratingsContent\"]').text\n",
    "            except:\n",
    "                review = \"None\"\n",
    "            reviews.append(review)\n",
    "       #.   not all positions have salary\n",
    "            try:\n",
    "                salary = job.find_element_by_xpath('.//span[@class=\"salaryText\"]').text\n",
    "            except:\n",
    "                salary = \"None\"\n",
    "        #.  tells only to look at the element       \n",
    "            salaries.append(salary)\n",
    "\n",
    "            try:\n",
    "                location = job.find_element_by_xpath('.//span[contains(@class,\"location\")]').text\n",
    "            except:\n",
    "                location = \"None\"\n",
    "        #.  tells only to look at the element       \n",
    "            locations.append(location)\n",
    "\n",
    "            try:\n",
    "                title  = job.find_element_by_xpath('.//h2[@class=\"title\"]//a').text\n",
    "            except:\n",
    "                title = job.find_element_by_xpath('.//h2[@class=\"title\"]//a').get_attribute(name=\"title\")\n",
    "            titles.append(title)\n",
    "            links.append(job.find_element_by_xpath('.//h2[@class=\"title\"]//a').get_attribute(name=\"href\"))\n",
    "            companies.append(job.find_element_by_xpath('.//span[@class=\"company\"]').text)\n",
    "        \n",
    "\n",
    "        try:\n",
    "            print('Clicking Next Page')\n",
    "            next_page = driver.find_element_by_xpath('//a[@aria-label={}]//span[@class=\"pn\"]'.format(i+2))\n",
    "            next_page.click()\n",
    "        \n",
    "        except:\n",
    "            print('No More Pages - END')\n",
    "            break\n",
    "            #next_page = driver.find_element_by_xpath('//a[@aria-label=\"Next\"]//span[@class=\"np\"]')\n",
    "            #next_page.click()\n",
    "        #except:\n",
    "            #next_page = driver.find_element_by_xpath('//a[.//span[contains(text(),\"Next\")]]')\n",
    "            #next_page.click()\n",
    "\n",
    "\n",
    "\n",
    "        \n"
   ]
  },
  {
   "cell_type": "code",
   "execution_count": 71,
   "metadata": {},
   "outputs": [],
   "source": [
    "missing_description = \"None\"\n",
    "descriptions=[]\n",
    "for link in links:\n",
    "        try:\n",
    "            driver.get(link)\n",
    "            jd = driver.find_element_by_xpath('//div[@id=\"jobDescriptionText\"]').text\n",
    "            descriptions.append(jd)\n",
    "        except:\n",
    "            descriptions.append(\"None\")"
   ]
  },
  {
   "cell_type": "code",
   "execution_count": 75,
   "metadata": {},
   "outputs": [
    {
     "name": "stdout",
     "output_type": "stream",
     "text": [
      "2402\n",
      "2399\n",
      "12\n",
      "2402\n",
      "2403\n",
      "2403\n",
      "2402\n"
     ]
    }
   ],
   "source": [
    "print(len(titles))\n",
    "print(len(companies))\n",
    "print(len(location))\n",
    "print(len(links))\n",
    "print(len(reviews))\n",
    "print(len(salaries))\n",
    "print(len(descriptions))"
   ]
  },
  {
   "cell_type": "code",
   "execution_count": 80,
   "metadata": {},
   "outputs": [],
   "source": [
    "df_da=pd.DataFrame()\n",
    "df_da['Title']=titles\n",
    "df_da['Company']=companies\n",
    "df_da['Location']=location\n",
    "df_da['Link']=links\n",
    "df_da['Review']=reviews\n",
    "df_da['Salary']=salaries\n",
    "df_da['Description']=descriptions"
   ]
  },
  {
   "cell_type": "code",
   "execution_count": 78,
   "metadata": {},
   "outputs": [],
   "source": [
    "df_da.to_csv('Project_Indeed_Web_Scrapper_jobs', index=False)"
   ]
  },
  {
   "cell_type": "code",
   "execution_count": 79,
   "metadata": {},
   "outputs": [],
   "source": [
    "df_da.to_excel('Project_Indeed_Web_Scrappers_jobs.xlsx')"
   ]
  },
  {
   "cell_type": "code",
   "execution_count": 81,
   "metadata": {},
   "outputs": [],
   "source": [
    "\n"
   ]
  },
  {
   "cell_type": "code",
   "execution_count": null,
   "metadata": {},
   "outputs": [],
   "source": []
  }
 ],
 "metadata": {
  "kernelspec": {
   "display_name": "Python 3",
   "language": "python",
   "name": "python3"
  },
  "language_info": {
   "codemirror_mode": {
    "name": "ipython",
    "version": 3
   },
   "file_extension": ".py",
   "mimetype": "text/x-python",
   "name": "python",
   "nbconvert_exporter": "python",
   "pygments_lexer": "ipython3",
   "version": "3.8.3"
  }
 },
 "nbformat": 4,
 "nbformat_minor": 4
}
